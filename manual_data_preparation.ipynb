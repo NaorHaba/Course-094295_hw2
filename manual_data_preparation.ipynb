{
 "cells": [
  {
   "cell_type": "code",
   "execution_count": 1,
   "metadata": {
    "collapsed": true
   },
   "outputs": [],
   "source": [
    "import os\n",
    "import shutil"
   ]
  },
  {
   "cell_type": "code",
   "execution_count": 2,
   "outputs": [],
   "source": [
    "defected_or_misplaced = {\n",
    "    'aefd90f4-ce5d-11eb-b317-38f9d35ea60f.png': 'i',\n",
    "    'b042daf0-ce5d-11eb-b317-38f9d35ea60f.png': 'i',\n",
    "    'aebd296a-ce5d-11eb-b317-38f9d35ea60f.png': 'ii',\n",
    "    'aeef5a98-ce5d-11eb-b317-38f9d35ea60f.png': 'ii',\n",
    "    'ac315d6a-ce5d-11eb-b317-38f9d35ea60f.png': 'ii',\n",
    "    'b0a8e61a-ce5d-11eb-b317-38f9d35ea60f.png': 'ii',\n",
    "    'b0b3a50a-ce5d-11eb-b317-38f9d35ea60f.png': 'ii',\n",
    "    'b0f43eee-ce5d-11eb-b317-38f9d35ea60f.png': 'ii',\n",
    "    'b03bc6ca-ce5d-11eb-b317-38f9d35ea60f.png': 'ii',\n",
    "    'b03f55c4-ce5d-11eb-b317-38f9d35ea60f.png': 'ii',\n",
    "    'b06fe3d8-ce5d-11eb-b317-38f9d35ea60f.png': 'ii',\n",
    "    'b075323e-ce5d-11eb-b317-38f9d35ea60f.png': 'ii',\n",
    "    'b0735928-ce5d-11eb-b317-38f9d35ea60f.png': 'ii',\n",
    "    'add92238-ce5d-11eb-b317-38f9d35ea60f.png': 'ii',\n",
    "    'ae7ac84a-ce5d-11eb-b317-38f9d35ea60f.png': 'ii',\n",
    "    'ae09c974-ce5d-11eb-b317-38f9d35ea60f.png': 'ii',\n",
    "    'b0156f52-ce5d-11eb-b317-38f9d35ea60f.png': 'ii',\n",
    "    'af3a837e-ce5d-11eb-b317-38f9d35ea60f.png': 'ii',\n",
    "    'af4b6a7c-ce5d-11eb-b317-38f9d35ea60f.png': 'ii',\n",
    "    'af5dc294-ce5d-11eb-b317-38f9d35ea60f.png': 'ii',\n",
    "    'af7c4732-ce5d-11eb-b317-38f9d35ea60f.png': 'ii',\n",
    "    'af21b484-ce5d-11eb-b317-38f9d35ea60f.png': 'ii',\n",
    "    'af71d1f8-ce5d-11eb-b317-38f9d35ea60f.png': 'ii',\n",
    "    'af662100-ce5d-11eb-b317-38f9d35ea60f.png': 'ii',\n",
    "    'ab24bd22-ce5d-11eb-b317-38f9d35ea60f.png': 'ii',\n",
    "    'ab291c32-ce5d-11eb-b317-38f9d35ea60f.png': 'ii',\n",
    "    'ad7dedc8-ce5d-11eb-b317-38f9d35ea60f.png': 'ii',\n",
    "    'ad9a139a-ce5d-11eb-b317-38f9d35ea60f.png': 'ii',\n",
    "    'ad105f2e-ce5d-11eb-b317-38f9d35ea60f.png': 'ii',\n",
    "    'adcdd5a4-ce5d-11eb-b317-38f9d35ea60f.png': 'ii',\n",
    "    'af0cd44c-ce5d-11eb-b317-38f9d35ea60f.png': 'iii',\n",
    "    'ac156ed4-ce5d-11eb-b317-38f9d35ea60f.png': 'iii',\n",
    "    'ab713f76-ce5d-11eb-b317-38f9d35ea60f.png': 'iii',\n",
    "    'ae07e118-ce5d-11eb-b317-38f9d35ea60f.png': 'iii',\n",
    "    'ae751ff8-ce5d-11eb-b317-38f9d35ea60f.png': 'iii',\n",
    "    'ad4eb472-ce5d-11eb-b317-38f9d35ea60f.png': 'iii',\n",
    "    'ad304a78-ce5d-11eb-b317-38f9d35ea60f.png': 'iii',\n",
    "    'aec401ea-ce5d-11eb-b317-38f9d35ea60f.png': 'iv',\n",
    "    'af047216-ce5d-11eb-b317-38f9d35ea60f.png': 'iv',\n",
    "    'ab6581d6-ce5d-11eb-b317-38f9d35ea60f.png': 'iv',\n",
    "    'b08a2702-ce5d-11eb-b317-38f9d35ea60f.png': 'iv',\n",
    "    'b07ac172-ce5d-11eb-b317-38f9d35ea60f.png': 'iv',\n",
    "    'aab65602-ce5d-11eb-b317-38f9d35ea60f.png': 'iv',\n",
    "    'aab77122-ce5d-11eb-b317-38f9d35ea60f.png': 'iv',\n",
    "    'aaba1c60-ce5d-11eb-b317-38f9d35ea60f.png': 'iv',\n",
    "    'aac4401e-ce5d-11eb-b317-38f9d35ea60f.png': 'iv',\n",
    "    'ab2075be-ce5d-11eb-b317-38f9d35ea60f.png': 'iv',\n",
    "    'ad7c6d22-ce5d-11eb-b317-38f9d35ea60f.png': 'iv',\n",
    "    'adb83398-ce5d-11eb-b317-38f9d35ea60f.png': 'iv',\n",
    "    'b04d17c2-ce5d-11eb-b317-38f9d35ea60f.png': 'ix',\n",
    "    'b08eb24a-ce5d-11eb-b317-38f9d35ea60f.png': 'ix',\n",
    "    'ae2f9c62-ce5d-11eb-b317-38f9d35ea60f.png': 'ix',\n",
    "    'ae0745aa-ce5d-11eb-b317-38f9d35ea60f.png': 'ix',\n",
    "    'afbd2a68-ce5d-11eb-b317-38f9d35ea60f.png': 'ix',\n",
    "    'ad7040e2-ce5d-11eb-b317-38f9d35ea60f.png': 'ix',\n",
    "    'ac268e44-ce5d-11eb-b317-38f9d35ea60f.png': 'v',\n",
    "    'ab5d949e-ce5d-11eb-b317-38f9d35ea60f.png': 'v',\n",
    "    'ab48e396-ce5d-11eb-b317-38f9d35ea60f.png': 'v',\n",
    "    'b05c1808-ce5d-11eb-b317-38f9d35ea60f.png': 'v',\n",
    "    'adf5ad04-ce5d-11eb-b317-38f9d35ea60f.png': 'v',\n",
    "    'ae12eb1c-ce5d-11eb-b317-38f9d35ea60f.png': 'v',\n",
    "    'aff41e24-ce5d-11eb-b317-38f9d35ea60f.png': 'v',\n",
    "    'ab327264-ce5d-11eb-b317-38f9d35ea60f.png': 'vi',\n",
    "    'b0a13faa-ce5d-11eb-b317-38f9d35ea60f.png': 'vi',\n",
    "    'b05f2872-ce5d-11eb-b317-38f9d35ea60f.png': 'vi',\n",
    "    'ade04432-ce5d-11eb-b317-38f9d35ea60f.png': 'vi',\n",
    "    'af8dac70-ce5d-11eb-b317-38f9d35ea60f.png': 'vi',\n",
    "    'accee2b0-ce5d-11eb-b317-38f9d35ea60f.png': 'vi',\n",
    "    'aab4f85c-ce5d-11eb-b317-38f9d35ea60f.png': 'vii',\n",
    "    'aef66fcc-ce5d-11eb-b317-38f9d35ea60f.png': 'x',\n",
    "    'af0087a0-ce5d-11eb-b317-38f9d35ea60f.png': 'x',\n",
    "    'ab5ba788-ce5d-11eb-b317-38f9d35ea60f.png': 'x',\n",
    "    'ab6ae5cc-ce5d-11eb-b317-38f9d35ea60f.png': 'x',\n",
    "    'ab846bbe-ce5d-11eb-b317-38f9d35ea60f.png': 'x',\n",
    "    'addb9af4-ce5d-11eb-b317-38f9d35ea60f.png': 'x',\n",
    "    'af1ddfb2-ce5d-11eb-b317-38f9d35ea60f.png': 'x',\n",
    "    'af4eb452-ce5d-11eb-b317-38f9d35ea60f.png': 'x',\n",
    "    'af6ca11a-ce5d-11eb-b317-38f9d35ea60f.png': 'x',\n",
    "    'af6dafb0-ce5d-11eb-b317-38f9d35ea60f.png': 'x',\n",
    "    'af28ef1a-ce5d-11eb-b317-38f9d35ea60f.png': 'x',\n",
    "    'af357f8c-ce5d-11eb-b317-38f9d35ea60f.png': 'x',\n",
    "    'af4670e4-ce5d-11eb-b317-38f9d35ea60f.png': 'x',\n",
    "    'aabf4b04-ce5d-11eb-b317-38f9d35ea60f.png': 'x',\n",
    "    'ab15f102-ce5d-11eb-b317-38f9d35ea60f.png': 'x',\n",
    "    'ab1785a8-ce5d-11eb-b317-38f9d35ea60f.png': 'x',\n",
    "    'ac9d42a0-ce5d-11eb-b317-38f9d35ea60f.png': 'x',\n",
    "    'ae8da37a-ce5d-11eb-b317-38f9d35ea60f.png': None,\n",
    "    'ae96c6da-ce5d-11eb-b317-38f9d35ea60f.png': None,\n",
    "    'ae906772-ce5d-11eb-b317-38f9d35ea60f.png': None,\n",
    "    'aea51e88-ce5d-11eb-b317-38f9d35ea60f.png': None,\n",
    "    'aeb1e50a-ce5d-11eb-b317-38f9d35ea60f.png': None,\n",
    "    'aeba70da-ce5d-11eb-b317-38f9d35ea60f.png': None,\n",
    "    'aec595aa-ce5d-11eb-b317-38f9d35ea60f.png': None,\n",
    "    'aed0b9b2-ce5d-11eb-b317-38f9d35ea60f.png': None,\n",
    "    'aedc86ac-ce5d-11eb-b317-38f9d35ea60f.png': None,\n",
    "    'aee14818-ce5d-11eb-b317-38f9d35ea60f.png': None,\n",
    "    'aee49716-ce5d-11eb-b317-38f9d35ea60f.png': None,\n",
    "    'aee98348-ce5d-11eb-b317-38f9d35ea60f.png': None,\n",
    "    'af0f452e-ce5d-11eb-b317-38f9d35ea60f.png': None,\n",
    "    'abab984c-ce5d-11eb-b317-38f9d35ea60f.png': None,\n",
    "    'ac3db31c-ce5d-11eb-b317-38f9d35ea60f.png': None,\n",
    "    'ac3e7324-ce5d-11eb-b317-38f9d35ea60f.png': None,\n",
    "    'ac4f0d92-ce5d-11eb-b317-38f9d35ea60f.png': None,\n",
    "    'ac5baeb2-ce5d-11eb-b317-38f9d35ea60f.png': None,\n",
    "    'ac18fb9e-ce5d-11eb-b317-38f9d35ea60f.png': None,\n",
    "    'ac64aa4e-ce5d-11eb-b317-38f9d35ea60f.png': None,\n",
    "    'ac328dd4-ce5d-11eb-b317-38f9d35ea60f.png': None,\n",
    "    'ac3396a2-ce5d-11eb-b317-38f9d35ea60f.png': None,\n",
    "    'ab4ce810-ce5d-11eb-b317-38f9d35ea60f.png': None,\n",
    "    'ab58d33c-ce5d-11eb-b317-38f9d35ea60f.png': None,\n",
    "    'ab75cd48-ce5d-11eb-b317-38f9d35ea60f.png': None,\n",
    "    'ab526a6a-ce5d-11eb-b317-38f9d35ea60f.png': None,\n",
    "    'b0a3ee30-ce5d-11eb-b317-38f9d35ea60f.png': None,\n",
    "    'aa8ae80a-ce5d-11eb-b317-38f9d35ea60f.png': None,\n",
    "    'b0a28068-ce5d-11eb-b317-38f9d35ea60f.png': None,\n",
    "    'b0b50846-ce5d-11eb-b317-38f9d35ea60f.png': None,\n",
    "    'b0dbd0d4-ce5d-11eb-b317-38f9d35ea60f.png': None,\n",
    "    'b0dafcb8-ce5d-11eb-b317-38f9d35ea60f.png': None,\n",
    "    'b0dff042-ce5d-11eb-b317-38f9d35ea60f.png': None,\n",
    "    'b0ef7d32-ce5d-11eb-b317-38f9d35ea60f.png': None,\n",
    "    'b0f00afe-ce5d-11eb-b317-38f9d35ea60f.png': None,\n",
    "    'b03b3520-ce5d-11eb-b317-38f9d35ea60f.png': None,\n",
    "    'b03fdcec-ce5d-11eb-b317-38f9d35ea60f.png': None,\n",
    "    'b03e7db6-ce5d-11eb-b317-38f9d35ea60f.png': None,\n",
    "    'b03dbf5c-ce5d-11eb-b317-38f9d35ea60f.png': None,\n",
    "    'b04fc576-ce5d-11eb-b317-38f9d35ea60f.png': None,\n",
    "    'b06eab08-ce5d-11eb-b317-38f9d35ea60f.png': None,\n",
    "    'b033b638-ce5d-11eb-b317-38f9d35ea60f.png': None,\n",
    "    'b030ba5a-ce5d-11eb-b317-38f9d35ea60f.png': None,\n",
    "    'b08ad24c-ce5d-11eb-b317-38f9d35ea60f.png': None,\n",
    "    'b053b2c6-ce5d-11eb-b317-38f9d35ea60f.png': None,\n",
    "    'b058e836-ce5d-11eb-b317-38f9d35ea60f.png': None,\n",
    "    'b0669cf6-ce5d-11eb-b317-38f9d35ea60f.png': None,\n",
    "    'b0729d62-ce5d-11eb-b317-38f9d35ea60f.png': None,\n",
    "    'b04248a6-ce5d-11eb-b317-38f9d35ea60f.png': None,\n",
    "    'b034954e-ce5d-11eb-b317-38f9d35ea60f.png': None,\n",
    "    'b0356104-ce5d-11eb-b317-38f9d35ea60f.png': None,\n",
    "    'b0492432-ce5d-11eb-b317-38f9d35ea60f.png': None,\n",
    "    'adfd451e-ce5d-11eb-b317-38f9d35ea60f.png': None,\n",
    "    'ae0aee76-ce5d-11eb-b317-38f9d35ea60f.png': None,\n",
    "    'ae507428-ce5d-11eb-b317-38f9d35ea60f.png': None,\n",
    "    'ae482476-ce5d-11eb-b317-38f9d35ea60f.png': None,\n",
    "    'ae285998-ce5d-11eb-b317-38f9d35ea60f.png': None,\n",
    "    'afb4e51a-ce5d-11eb-b317-38f9d35ea60f.png': None,\n",
    "    'afc10ba6-ce5d-11eb-b317-38f9d35ea60f.png': None,\n",
    "    'afd99e50-ce5d-11eb-b317-38f9d35ea60f.png': None,\n",
    "    'afd7564a-ce5d-11eb-b317-38f9d35ea60f.png': None,\n",
    "    'afdd00f4-ce5d-11eb-b317-38f9d35ea60f.png': None,\n",
    "    'afe2c354-ce5d-11eb-b317-38f9d35ea60f.png': None,\n",
    "    'aff0325a-ce5d-11eb-b317-38f9d35ea60f.png': None,\n",
    "    'b0062b82-ce5d-11eb-b317-38f9d35ea60f.png': None,\n",
    "    'b02931ea-ce5d-11eb-b317-38f9d35ea60f.png': None,\n",
    "    'b0059456-ce5d-11eb-b317-38f9d35ea60f.png': None,\n",
    "    'af2f5922-ce5d-11eb-b317-38f9d35ea60f.png': None,\n",
    "    'af2fef0e-ce5d-11eb-b317-38f9d35ea60f.png': None,\n",
    "    'af3b0506-ce5d-11eb-b317-38f9d35ea60f.png': None,\n",
    "    'af4fe8b8-ce5d-11eb-b317-38f9d35ea60f.png': None,\n",
    "    'af6c0ae8-ce5d-11eb-b317-38f9d35ea60f.png': None,\n",
    "    'af8b9bba-ce5d-11eb-b317-38f9d35ea60f.png': None,\n",
    "    'af88d308-ce5d-11eb-b317-38f9d35ea60f.png': None,\n",
    "    'af209efa-ce5d-11eb-b317-38f9d35ea60f.png': None,\n",
    "    'af644de4-ce5d-11eb-b317-38f9d35ea60f.png': None,\n",
    "    'af4714b8-ce5d-11eb-b317-38f9d35ea60f.png': None,\n",
    "    'af8543fa-ce5d-11eb-b317-38f9d35ea60f.png': None,\n",
    "    'aab4528a-ce5d-11eb-b317-38f9d35ea60f.png': None,\n",
    "    'aac5f63e-ce5d-11eb-b317-38f9d35ea60f.png': None,\n",
    "    'aac26b40-ce5d-11eb-b317-38f9d35ea60f.png': None,\n",
    "    'ab1d38ae-ce5d-11eb-b317-38f9d35ea60f.png': None,\n",
    "    'ab1e53ba-ce5d-11eb-b317-38f9d35ea60f.png': None,\n",
    "    'ab23f0b8-ce5d-11eb-b317-38f9d35ea60f.png': None,\n",
    "    'ab2356ee-ce5d-11eb-b317-38f9d35ea60f.png': None,\n",
    "    'ac8ceffe-ce5d-11eb-b317-38f9d35ea60f.png': None,\n",
    "    'aca3b2e8-ce5d-11eb-b317-38f9d35ea60f.png': None,\n",
    "    'aca544e6-ce5d-11eb-b317-38f9d35ea60f.png': None,\n",
    "    'acaf1e26-ce5d-11eb-b317-38f9d35ea60f.png': None,\n",
    "    'acbbe7dc-ce5d-11eb-b317-38f9d35ea60f.png': None,\n",
    "    'acd12034-ce5d-11eb-b317-38f9d35ea60f.png': None,\n",
    "    'acdcf062-ce5d-11eb-b317-38f9d35ea60f.png': None,\n",
    "    'ad03d60a-ce5d-11eb-b317-38f9d35ea60f.png': None,\n",
    "    'ad0fcdfc-ce5d-11eb-b317-38f9d35ea60f.png': None,\n",
    "    'ad1a9a16-ce5d-11eb-b317-38f9d35ea60f.png': None,\n",
    "    'ad1a0948-ce5d-11eb-b317-38f9d35ea60f.png': None,\n",
    "    'ad6def90-ce5d-11eb-b317-38f9d35ea60f.png': None,\n",
    "    'ad18dbae-ce5d-11eb-b317-38f9d35ea60f.png': None,\n",
    "    'ad9404f0-ce5d-11eb-b317-38f9d35ea60f.png': None,\n",
    "    'ad53785e-ce5d-11eb-b317-38f9d35ea60f.png': None,\n",
    "    'adb07b4e-ce5d-11eb-b317-38f9d35ea60f.png': None,\n",
    "    'adb27eb2-ce5d-11eb-b317-38f9d35ea60f.png': None,\n",
    "    'adc2d0b4-ce5d-11eb-b317-38f9d35ea60f.png': None,\n",
    "    'adc4777a-ce5d-11eb-b317-38f9d35ea60f.png': None,\n",
    "    'add4f03c-ce5d-11eb-b317-38f9d35ea60f.png': None,\n",
    "    'add4565e-ce5d-11eb-b317-38f9d35ea60f.png': None\n",
    "}"
   ],
   "metadata": {
    "collapsed": false,
    "pycharm": {
     "name": "#%%\n"
    }
   }
  },
  {
   "cell_type": "markdown",
   "source": [
    "Copy all data (train and validation) to one directory"
   ],
   "metadata": {
    "collapsed": false,
    "pycharm": {
     "name": "#%% md\n"
    }
   }
  },
  {
   "cell_type": "code",
   "execution_count": 6,
   "outputs": [],
   "source": [
    "shutil.copytree('data/train', 'data/all_data')\n",
    "for i in os.listdir('data/val'):\n",
    "    for im in os.listdir(f'data/val/{i}'):\n",
    "        shutil.copy(f'data/val/{i}/{im}', f'data/all_data/{i}')"
   ],
   "metadata": {
    "collapsed": false,
    "pycharm": {
     "name": "#%%\n"
    }
   }
  },
  {
   "cell_type": "code",
   "execution_count": 7,
   "outputs": [
    {
     "name": "stdout",
     "output_type": "stream",
     "text": [
      "1\n",
      "1\n",
      "1\n",
      "1\n",
      "1\n",
      "1\n",
      "1\n",
      "1\n",
      "1\n",
      "1\n",
      "1\n",
      "1\n",
      "1\n",
      "1\n",
      "1\n",
      "1\n",
      "1\n",
      "1\n",
      "1\n",
      "1\n",
      "1\n",
      "1\n",
      "1\n",
      "1\n",
      "1\n",
      "1\n",
      "1\n",
      "1\n",
      "1\n",
      "1\n",
      "1\n",
      "1\n",
      "1\n",
      "1\n",
      "1\n",
      "1\n",
      "1\n",
      "1\n",
      "1\n",
      "1\n",
      "1\n",
      "1\n",
      "0\n",
      "1\n",
      "1\n",
      "1\n",
      "1\n",
      "1\n",
      "1\n",
      "1\n",
      "1\n",
      "1\n",
      "1\n",
      "1\n",
      "1\n",
      "0\n",
      "0\n",
      "1\n",
      "1\n",
      "1\n",
      "1\n",
      "1\n",
      "1\n",
      "1\n",
      "1\n",
      "1\n",
      "1\n",
      "1\n",
      "1\n",
      "1\n",
      "1\n",
      "1\n",
      "1\n",
      "1\n",
      "1\n",
      "1\n",
      "1\n",
      "1\n",
      "1\n",
      "0\n",
      "1\n",
      "1\n",
      "1\n",
      "1\n",
      "1\n",
      "1\n",
      "1\n",
      "1\n",
      "1\n",
      "1\n",
      "1\n",
      "1\n",
      "1\n",
      "1\n",
      "1\n",
      "1\n",
      "1\n",
      "1\n",
      "1\n",
      "1\n",
      "0\n",
      "1\n",
      "1\n",
      "1\n",
      "1\n",
      "1\n",
      "1\n",
      "1\n",
      "1\n",
      "0\n",
      "1\n",
      "1\n",
      "1\n",
      "1\n",
      "0\n",
      "1\n",
      "1\n",
      "1\n",
      "1\n",
      "0\n",
      "1\n",
      "0\n",
      "1\n",
      "0\n",
      "1\n",
      "1\n",
      "1\n",
      "0\n",
      "1\n",
      "1\n",
      "0\n",
      "1\n",
      "0\n",
      "1\n",
      "1\n",
      "1\n",
      "1\n",
      "0\n",
      "0\n",
      "1\n",
      "0\n",
      "1\n",
      "1\n",
      "1\n",
      "1\n",
      "1\n",
      "0\n",
      "0\n",
      "0\n",
      "1\n",
      "0\n",
      "0\n",
      "0\n",
      "1\n",
      "0\n",
      "1\n",
      "0\n",
      "0\n",
      "0\n",
      "0\n",
      "0\n",
      "0\n",
      "1\n",
      "1\n",
      "0\n",
      "0\n",
      "0\n",
      "0\n",
      "1\n",
      "0\n",
      "1\n",
      "1\n",
      "1\n",
      "1\n",
      "1\n",
      "1\n",
      "1\n",
      "1\n",
      "1\n",
      "1\n",
      "1\n",
      "1\n",
      "1\n",
      "1\n",
      "1\n",
      "1\n",
      "1\n",
      "1\n",
      "1\n",
      "1\n",
      "1\n",
      "1\n",
      "0\n",
      "0\n",
      "0\n",
      "1\n",
      "1\n",
      "0\n",
      "0\n",
      "0\n",
      "0\n",
      "0\n",
      "1\n",
      "1\n",
      "1\n",
      "1\n",
      "0\n",
      "0\n",
      "1\n",
      "0\n",
      "1\n",
      "0\n",
      "1\n",
      "1\n",
      "0\n",
      "0\n",
      "0\n",
      "1\n",
      "1\n",
      "1\n",
      "1\n",
      "1\n",
      "1\n",
      "1\n",
      "1\n",
      "1\n",
      "1\n",
      "0\n",
      "1\n",
      "1\n",
      "0\n",
      "1\n",
      "1\n",
      "1\n",
      "0\n",
      "0\n",
      "1\n",
      "0\n",
      "0\n",
      "1\n",
      "1\n",
      "1\n",
      "1\n",
      "1\n",
      "1\n",
      "1\n",
      "1\n"
     ]
    }
   ],
   "source": [
    "for i in os.listdir('data/all_data'):\n",
    "    for im in os.listdir(f'data/all_data/{i}'):\n",
    "        if im in defected_or_misplaced:\n",
    "            if i == defected_or_misplaced[im]:\n",
    "                pass\n",
    "            else:\n",
    "                if defected_or_misplaced[im] is not None:\n",
    "                    shutil.copy(f'data/all_data/{i}/{im}', f'data/all_data/{defected_or_misplaced[im]}')\n",
    "                os.remove(f'data/all_data/{i}/{im}')"
   ],
   "metadata": {
    "collapsed": false,
    "pycharm": {
     "name": "#%%\n"
    }
   }
  },
  {
   "cell_type": "markdown",
   "source": [
    "# Plots"
   ],
   "metadata": {
    "collapsed": false,
    "pycharm": {
     "name": "#%% md\n"
    }
   }
  },
  {
   "cell_type": "code",
   "execution_count": 13,
   "outputs": [],
   "source": [
    "import os\n",
    "import matplotlib.pyplot as plt\n",
    "from collections import OrderedDict"
   ],
   "metadata": {
    "collapsed": false,
    "pycharm": {
     "name": "#%%\n"
    }
   }
  },
  {
   "cell_type": "code",
   "execution_count": 4,
   "outputs": [
    {
     "data": {
      "text/plain": "[979, 910, 921, 927, 932, 997, 924, 927, 931, 956]"
     },
     "execution_count": 4,
     "metadata": {},
     "output_type": "execute_result"
    }
   ],
   "source": [
    "[len(os.listdir(os.path.join('data/train_origin', let))) for let in os.listdir('data/train_origin')]"
   ],
   "metadata": {
    "collapsed": false,
    "pycharm": {
     "name": "#%%\n"
    }
   }
  },
  {
   "cell_type": "code",
   "execution_count": 17,
   "outputs": [
    {
     "data": {
      "text/plain": "<Figure size 432x288 with 1 Axes>",
      "image/png": "[encoded data removed]"
     },
     "metadata": {
      "needs_background": "light"
     },
     "output_type": "display_data"
    }
   ],
   "source": [
    "origin_data_len = {let: len(os.listdir(os.path.join('data/train_origin', let))) for let in os.listdir('data/train_origin')}\n",
    "origin_data_len = OrderedDict(sorted(origin_data_len.items()))\n",
    "plt.bar(range(len(origin_data_len)), list(origin_data_len.values()), align='center')\n",
    "plt.xticks(range(len(origin_data_len)), list(origin_data_len.keys()))\n",
    "plt.title('Number of Images per Letter')\n",
    "plt.savefig('Number of Images per Letter.png');"
   ],
   "metadata": {
    "collapsed": false,
    "pycharm": {
     "name": "#%%\n"
    }
   }
  },
  {
   "cell_type": "code",
   "execution_count": 25,
   "outputs": [
    {
     "name": "stderr",
     "output_type": "stream",
     "text": [
      "/anaconda/envs/hw_094295_env/lib/python3.9/site-packages/tqdm/auto.py:22: TqdmWarning: IProgress not found. Please update jupyter and ipywidgets. See https://ipywidgets.readthedocs.io/en/stable/user_install.html\n",
      "  from .autonotebook import tqdm as notebook_tqdm\n"
     ]
    }
   ],
   "source": [
    "from torchvision import transforms, datasets\n",
    "\n",
    "# Paths to your train and val directories\n",
    "train_dir = os.path.join(\"data\", \"train_origin\")\n",
    "val_dir = os.path.join(\"data\", \"val_origin\")\n",
    "\n",
    "\n",
    "def imshow(inp, title=None):\n",
    "    \"\"\"Imshow for Tensors.\"\"\"\n",
    "    inp = inp.numpy().transpose((1, 2, 0))\n",
    "    plt.figure(figsize=(15, 15))\n",
    "    plt.imshow(inp)\n",
    "    if title is not None:\n",
    "        plt.title(title)\n",
    "    plt.pause(0.001)\n",
    "\n",
    "# Resize the samples and transform them into tensors\n",
    "data_transforms = transforms.Compose([transforms.Resize([64, 64]), transforms.ToTensor()])\n",
    "\n",
    "# Create a pytorch dataset from a directory of images\n",
    "train_dataset = datasets.ImageFolder(train_dir, data_transforms)\n",
    "val_dataset = datasets.ImageFolder(val_dir, data_transforms)"
   ],
   "metadata": {
    "collapsed": false,
    "pycharm": {
     "name": "#%%\n"
    }
   }
  },
  {
   "cell_type": "code",
   "execution_count": 59,
   "outputs": [
    {
     "data": {
      "text/plain": "<Figure size 1440x144 with 10 Axes>",
      "image/png": "[encoded data removed]"
     },
     "metadata": {},
     "output_type": "display_data"
    }
   ],
   "source": [
    "fig, axs = plt.subplots(1, 10)\n",
    "fig.set_figheight(2)\n",
    "fig.set_figwidth(20)\n",
    "fig.suptitle('Roman Letters in the Dataset')\n",
    "for let in range(10):\n",
    "    axs[let].imshow(val_dataset[let][0].numpy().transpose((1,2,0)))\n",
    "    plt.setp(axs[let].get_xticklabels(), visible=False)\n",
    "    plt.setp(axs[let].get_yticklabels(), visible=False)\n",
    "plt.savefig('Roman Letters in the Dataset.png')"
   ],
   "metadata": {
    "collapsed": false,
    "pycharm": {
     "name": "#%%\n"
    }
   }
  },
  {
   "cell_type": "code",
   "execution_count": 63,
   "outputs": [],
   "source": [
    "deleted = [k for k in defected_or_misplaced.keys() if defected_or_misplaced[k] is None]"
   ],
   "metadata": {
    "collapsed": false,
    "pycharm": {
     "name": "#%%\n"
    }
   }
  },
  {
   "cell_type": "code",
   "execution_count": 64,
   "outputs": [
    {
     "name": "stdout",
     "output_type": "stream",
     "text": [
      "abab984c-ce5d-11eb-b317-38f9d35ea60f.png\n",
      "ac3db31c-ce5d-11eb-b317-38f9d35ea60f.png\n",
      "ac3e7324-ce5d-11eb-b317-38f9d35ea60f.png\n",
      "ac4f0d92-ce5d-11eb-b317-38f9d35ea60f.png\n",
      "ac5baeb2-ce5d-11eb-b317-38f9d35ea60f.png\n",
      "ac18fb9e-ce5d-11eb-b317-38f9d35ea60f.png\n",
      "ac64aa4e-ce5d-11eb-b317-38f9d35ea60f.png\n",
      "ac328dd4-ce5d-11eb-b317-38f9d35ea60f.png\n",
      "ac3396a2-ce5d-11eb-b317-38f9d35ea60f.png\n"
     ]
    }
   ],
   "source": [
    "for d in deleted:\n",
    "    for p in os.listdir('data/train_origin/i'):\n",
    "        if p == d:\n",
    "            print(p)"
   ],
   "metadata": {
    "collapsed": false,
    "pycharm": {
     "name": "#%%\n"
    }
   }
  }
 ],
 "metadata": {
  "kernelspec": {
   "display_name": "Python 3",
   "language": "python",
   "name": "python3"
  },
  "language_info": {
   "codemirror_mode": {
    "name": "ipython",
    "version": 2
   },
   "file_extension": ".py",
   "mimetype": "text/x-python",
   "name": "python",
   "nbconvert_exporter": "python",
   "pygments_lexer": "ipython2",
   "version": "2.7.6"
  }
 },
 "nbformat": 4,
 "nbformat_minor": 0
}